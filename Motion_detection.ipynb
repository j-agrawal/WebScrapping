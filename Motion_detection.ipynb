{
  "nbformat": 4,
  "nbformat_minor": 0,
  "metadata": {
    "colab": {
      "name": "Motion_detection.ipynb",
      "version": "0.3.2",
      "provenance": [],
      "collapsed_sections": [],
      "include_colab_link": true
    },
    "kernelspec": {
      "name": "python3",
      "display_name": "Python 3"
    }
  },
  "cells": [
    {
      "cell_type": "markdown",
      "metadata": {
        "id": "view-in-github",
        "colab_type": "text"
      },
      "source": [
        "<a href=\"https://colab.research.google.com/github/j-agrawal/computer_vision/blob/master/Motion_detection.ipynb\" target=\"_parent\"><img src=\"https://colab.research.google.com/assets/colab-badge.svg\" alt=\"Open In Colab\"/></a>"
      ]
    },
    {
      "cell_type": "code",
      "metadata": {
        "id": "bNP6FgGj0kmb",
        "colab_type": "code",
        "colab": {}
      },
      "source": [
        "import cv2\n",
        "# start camera\n",
        "cap =cv2.VideoCapture(2)\n",
        "\n",
        "tp1 = cap.read()[1]  # take1\n",
        "tp3 = cap.read()[2]  # take2\n",
        "tp3 = cap.read()[3]  # take3\n",
        "\n",
        "# to make more perfect\n",
        "gray1= cv2.cvtColor(tp1,cv2.COLOR_BGR2GRAY)  # converting into gray\n",
        "gray2= cv2.cvtColor(tp2,cv2.COLOR_BGR2GRAY)  # converting into gray \n",
        "gray3= cv2.cvtColor(tp3,cv2.COLOR_BGR2GRAY)  # converting into gray\n",
        "\n",
        "# now creating image difference\n",
        "def img_diff(x,y,z):\n",
        "  # diff b/w x,y --gray1,gray2 --d1\n",
        "  d1= cv2.absdiff(x,y)\n",
        "  # diff b/w y,z --gray2,gray3  --d2\n",
        "  d2= cv2.absdiff(y,z)\n",
        "  # abs diff d1-d2\n",
        "  finalimg= cv2.bitwise_and(d1,d2)\n",
        "  return finalimg\n",
        "\n",
        "\n",
        "\n",
        "# now apply function\n",
        "while cap.isOpened():\n",
        "  status, frame=cap.read() # continue image taker\n",
        "  img_diff(gray1,gray2,gray3)\n",
        "  # replacing image frame\n",
        "  gray1=gray2\n",
        "  gray2=gray3\n",
        "  gray3=cv2.cvtColor(frame,cv2.COLOR_BGR2GRAY) # passing live images to gray3\n",
        "  cv.imshow('motion',frame)\n",
        "  if cv2.waitKey(10) & 0xff == ord('q') :\n",
        "    break\n",
        "    \n",
        "cv2.destroyAllWindows()\n",
        "cap.release()\n"
      ],
      "execution_count": 0,
      "outputs": []
    }
  ]
}