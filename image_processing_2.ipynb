{
  "nbformat": 4,
  "nbformat_minor": 0,
  "metadata": {
    "colab": {
      "name": "image_processing_2.ipynb",
      "version": "0.3.2",
      "provenance": [],
      "include_colab_link": true
    },
    "kernelspec": {
      "name": "python3",
      "display_name": "Python 3"
    }
  },
  "cells": [
    {
      "cell_type": "markdown",
      "metadata": {
        "id": "view-in-github",
        "colab_type": "text"
      },
      "source": [
        "<a href=\"https://colab.research.google.com/github/j-agrawal/computer_vision/blob/master/image_processing_2.ipynb\" target=\"_parent\"><img src=\"https://colab.research.google.com/assets/colab-badge.svg\" alt=\"Open In Colab\"/></a>"
      ]
    },
    {
      "cell_type": "code",
      "metadata": {
        "id": "mfp9sziOK62_",
        "colab_type": "code",
        "colab": {}
      },
      "source": [
        "import sys \n",
        "import cv2\n",
        "import matplotlib.pyplot as plt"
      ],
      "execution_count": 0,
      "outputs": []
    },
    {
      "cell_type": "code",
      "metadata": {
        "id": "2K-zUCg6L0Dd",
        "colab_type": "code",
        "outputId": "2c80a163-15b8-4741-854b-81a866f8d881",
        "colab": {
          "base_uri": "https://localhost:8080/",
          "height": 35
        }
      },
      "source": [
        "# print version\n",
        "cv2.__version__"
      ],
      "execution_count": 0,
      "outputs": [
        {
          "output_type": "execute_result",
          "data": {
            "text/plain": [
              "'3.4.3'"
            ]
          },
          "metadata": {
            "tags": []
          },
          "execution_count": 24
        }
      ]
    },
    {
      "cell_type": "code",
      "metadata": {
        "id": "Dnj3bZ9jL4rb",
        "colab_type": "code",
        "colab": {}
      },
      "source": [
        "# image name as first argument\n",
        "data= sys.argv[1]"
      ],
      "execution_count": 0,
      "outputs": []
    },
    {
      "cell_type": "code",
      "metadata": {
        "id": "ZfG5c9v6MORn",
        "colab_type": "code",
        "colab": {}
      },
      "source": [
        "# image read\n",
        "img = cv2.imread('pup.jpg',1)\n",
        "# loading image  in a coloured fromat  --original image"
      ],
      "execution_count": 0,
      "outputs": []
    },
    {
      "cell_type": "code",
      "metadata": {
        "id": "HjvvvByEMc72",
        "colab_type": "code",
        "outputId": "662d626c-ac3b-4652-90ad-accb15633616",
        "colab": {
          "base_uri": "https://localhost:8080/",
          "height": 908
        }
      },
      "source": [
        "img"
      ],
      "execution_count": 0,
      "outputs": [
        {
          "output_type": "execute_result",
          "data": {
            "text/plain": [
              "array([[[ 61,  79,  78],\n",
              "        [ 60,  81,  79],\n",
              "        [ 60,  81,  82],\n",
              "        ...,\n",
              "        [ 47, 112, 140],\n",
              "        [ 44, 111, 138],\n",
              "        [ 42, 109, 134]],\n",
              "\n",
              "       [[ 60,  78,  77],\n",
              "        [ 59,  80,  78],\n",
              "        [ 58,  82,  82],\n",
              "        ...,\n",
              "        [ 46, 113, 140],\n",
              "        [ 44, 111, 138],\n",
              "        [ 43, 110, 137]],\n",
              "\n",
              "       [[ 59,  80,  78],\n",
              "        [ 59,  80,  81],\n",
              "        [ 56,  82,  82],\n",
              "        ...,\n",
              "        [ 44, 112, 141],\n",
              "        [ 43, 112, 139],\n",
              "        [ 42, 111, 138]],\n",
              "\n",
              "       ...,\n",
              "\n",
              "       [[117, 121, 132],\n",
              "        [114, 118, 129],\n",
              "        [122, 127, 136],\n",
              "        ...,\n",
              "        [159, 169, 169],\n",
              "        [159, 165, 170],\n",
              "        [144, 146, 156]],\n",
              "\n",
              "       [[128, 137, 146],\n",
              "        [127, 132, 141],\n",
              "        [127, 130, 138],\n",
              "        ...,\n",
              "        [163, 173, 173],\n",
              "        [162, 169, 172],\n",
              "        [145, 148, 156]],\n",
              "\n",
              "       [[138, 150, 156],\n",
              "        [137, 146, 150],\n",
              "        [129, 133, 138],\n",
              "        ...,\n",
              "        [157, 166, 169],\n",
              "        [163, 170, 173],\n",
              "        [156, 161, 164]]], dtype=uint8)"
            ]
          },
          "metadata": {
            "tags": []
          },
          "execution_count": 31
        }
      ]
    },
    {
      "cell_type": "code",
      "metadata": {
        "id": "kpgH3YUYMeM-",
        "colab_type": "code",
        "outputId": "5ef0970c-5ea6-4766-9752-aa0ac83f4023",
        "colab": {
          "base_uri": "https://localhost:8080/",
          "height": 35
        }
      },
      "source": [
        "print(img.shape)"
      ],
      "execution_count": 0,
      "outputs": [
        {
          "output_type": "stream",
          "text": [
            "(644, 952, 3)\n"
          ],
          "name": "stdout"
        }
      ]
    },
    {
      "cell_type": "code",
      "metadata": {
        "id": "29DL9KnkODNq",
        "colab_type": "code",
        "colab": {}
      },
      "source": [
        "from google.colab.patches import cv2_imshow"
      ],
      "execution_count": 0,
      "outputs": []
    },
    {
      "cell_type": "code",
      "metadata": {
        "id": "qHpWLBNgMhcB",
        "colab_type": "code",
        "colab": {}
      },
      "source": [
        "cv2_imshow(img)"
      ],
      "execution_count": 0,
      "outputs": []
    },
    {
      "cell_type": "code",
      "metadata": {
        "id": "C0WVXLaQNHAi",
        "colab_type": "code",
        "colab": {}
      },
      "source": [
        "cv2_imshow(img-50)"
      ],
      "execution_count": 0,
      "outputs": []
    },
    {
      "cell_type": "code",
      "metadata": {
        "id": "2OQbAaj8OaC-",
        "colab_type": "code",
        "colab": {}
      },
      "source": [
        "cv2_imshow(img+100)"
      ],
      "execution_count": 0,
      "outputs": []
    },
    {
      "cell_type": "code",
      "metadata": {
        "id": "PS-st32UOmHh",
        "colab_type": "code",
        "colab": {}
      },
      "source": [
        "cv2_imshow(img+10)"
      ],
      "execution_count": 0,
      "outputs": []
    },
    {
      "cell_type": "code",
      "metadata": {
        "id": "Q3AFFGWxOwue",
        "colab_type": "code",
        "colab": {}
      },
      "source": [
        "cv2.split(img)"
      ],
      "execution_count": 0,
      "outputs": []
    },
    {
      "cell_type": "code",
      "metadata": {
        "id": "HqcAf4PHO-0g",
        "colab_type": "code",
        "colab": {}
      },
      "source": [
        "cv2_imshow(img/2)"
      ],
      "execution_count": 0,
      "outputs": []
    },
    {
      "cell_type": "code",
      "metadata": {
        "id": "mG5QX9vmPRaE",
        "colab_type": "code",
        "colab": {}
      },
      "source": [
        "img1= cv2.imread('pup.jpg',0)"
      ],
      "execution_count": 0,
      "outputs": []
    },
    {
      "cell_type": "code",
      "metadata": {
        "id": "ody3FOWWP5f8",
        "colab_type": "code",
        "colab": {}
      },
      "source": [
        "img1"
      ],
      "execution_count": 0,
      "outputs": []
    },
    {
      "cell_type": "code",
      "metadata": {
        "id": "SW0iDvPgP6lZ",
        "colab_type": "code",
        "colab": {}
      },
      "source": [
        "cv2_imshow(img1)"
      ],
      "execution_count": 0,
      "outputs": []
    },
    {
      "cell_type": "code",
      "metadata": {
        "id": "akbrsZfHP9xb",
        "colab_type": "code",
        "colab": {}
      },
      "source": [
        "cap = cv2.VideoCapture(0)"
      ],
      "execution_count": 0,
      "outputs": []
    },
    {
      "cell_type": "code",
      "metadata": {
        "id": "xUBEFhomR3Y8",
        "colab_type": "code",
        "outputId": "2cabcb00-b1ae-4177-ac02-f642a21eb6c9",
        "colab": {
          "base_uri": "https://localhost:8080/",
          "height": 581
        }
      },
      "source": [
        "dir(cap)"
      ],
      "execution_count": 0,
      "outputs": [
        {
          "output_type": "execute_result",
          "data": {
            "text/plain": [
              "['__class__',\n",
              " '__delattr__',\n",
              " '__dir__',\n",
              " '__doc__',\n",
              " '__eq__',\n",
              " '__format__',\n",
              " '__ge__',\n",
              " '__getattribute__',\n",
              " '__gt__',\n",
              " '__hash__',\n",
              " '__init__',\n",
              " '__init_subclass__',\n",
              " '__le__',\n",
              " '__lt__',\n",
              " '__ne__',\n",
              " '__new__',\n",
              " '__reduce__',\n",
              " '__reduce_ex__',\n",
              " '__repr__',\n",
              " '__setattr__',\n",
              " '__sizeof__',\n",
              " '__str__',\n",
              " '__subclasshook__',\n",
              " 'get',\n",
              " 'grab',\n",
              " 'isOpened',\n",
              " 'open',\n",
              " 'read',\n",
              " 'release',\n",
              " 'retrieve',\n",
              " 'set']"
            ]
          },
          "metadata": {
            "tags": []
          },
          "execution_count": 62
        }
      ]
    },
    {
      "cell_type": "code",
      "metadata": {
        "id": "agYyfaUaR-Fp",
        "colab_type": "code",
        "outputId": "e38b2008-9950-44b9-e2c2-a74b6366de7c",
        "colab": {
          "base_uri": "https://localhost:8080/",
          "height": 35
        }
      },
      "source": [
        "if cap.isOpened():\n",
        "  print(\"camera is ready to take pictures\")\n",
        "else:\n",
        "  print(\"check your web cam drivers\")"
      ],
      "execution_count": 0,
      "outputs": [
        {
          "output_type": "stream",
          "text": [
            "check your web cam drivers\n"
          ],
          "name": "stdout"
        }
      ]
    },
    {
      "cell_type": "code",
      "metadata": {
        "id": "uLrCnJEfSSV0",
        "colab_type": "code",
        "colab": {}
      },
      "source": [
        ""
      ],
      "execution_count": 0,
      "outputs": []
    }
  ]
}