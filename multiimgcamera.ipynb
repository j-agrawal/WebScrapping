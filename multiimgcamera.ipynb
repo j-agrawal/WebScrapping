{
  "nbformat": 4,
  "nbformat_minor": 0,
  "metadata": {
    "colab": {
      "name": "multiimgcamera.ipynb",
      "version": "0.3.2",
      "provenance": [],
      "collapsed_sections": [],
      "include_colab_link": true
    },
    "kernelspec": {
      "name": "python3",
      "display_name": "Python 3"
    }
  },
  "cells": [
    {
      "cell_type": "markdown",
      "metadata": {
        "id": "view-in-github",
        "colab_type": "text"
      },
      "source": [
        "<a href=\"https://colab.research.google.com/github/j-agrawal/computer_vision/blob/master/multiimgcamera.ipynb\" target=\"_parent\"><img src=\"https://colab.research.google.com/assets/colab-badge.svg\" alt=\"Open In Colab\"/></a>"
      ]
    },
    {
      "cell_type": "code",
      "metadata": {
        "id": "FiPTK5Bahmjs",
        "colab_type": "code",
        "colab": {}
      },
      "source": [
        "import cv2"
      ],
      "execution_count": 0,
      "outputs": []
    },
    {
      "cell_type": "code",
      "metadata": {
        "id": "9DykHvROhod_",
        "colab_type": "code",
        "colab": {}
      },
      "source": [
        "#starting camera\n",
        "cap= cv2.VideoCapture(0)\n",
        "\n",
        "while= cap.isOpened():\n",
        "  status, frame= cap.read()\n",
        "  \n",
        "  cv2.imshow('live',frame)\n",
        "  if cv2.waitkey(10) & 0xff == ord('q') :\n",
        "    break\n",
        "    \n",
        "    \n",
        "#cv2.destroyWindow('live')\n",
        "# this will destroy all windows\n",
        "cv2.destroyAllWindows()\n",
        "\n",
        "# to close camera\n",
        "cap.release()"
      ],
      "execution_count": 0,
      "outputs": []
    }
  ]
}